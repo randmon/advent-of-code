{
 "cells": [
  {
   "cell_type": "markdown",
   "metadata": {},
   "source": [
    "# 1 December 2015\n",
    "\n",
    "## Part 1\n",
    "\n",
    "```\n",
    "--- Day 1: Not Quite Lisp ---\n",
    "\n",
    "Santa was hoping for a white Christmas, but his weather machine's \"snow\" function is powered by stars, and he's fresh out! To save Christmas, he needs you to collect fifty stars by December 25th.\n",
    "\n",
    "Collect stars by helping Santa solve puzzles. Two puzzles will be made available on each day in the Advent calendar; the second puzzle is unlocked when you complete the first. Each puzzle grants one star. Good luck!\n",
    "\n",
    "Here's an easy puzzle to warm you up.\n",
    "\n",
    "Santa is trying to deliver presents in a large apartment building, but he can't find the right floor - the directions he got are a little confusing. He starts on the ground floor (floor 0) and then follows the instructions one character at a time.\n",
    "\n",
    "An opening parenthesis, (, means he should go up one floor, and a closing parenthesis, ), means he should go down one floor.\n",
    "\n",
    "The apartment building is very tall, and the basement is very deep; he will never find the top or bottom floors.\n",
    "\n",
    "For example:\n",
    "\n",
    "  - (()) and ()() both result in floor 0.\n",
    "  - ((( and (()(()( both result in floor 3.\n",
    "  - ))((((( also results in floor 3.\n",
    "  - ()) and ))( both result in floor -1 (the first basement level).\n",
    "  - ))) and )())()) both result in floor -3.\n",
    "\n",
    "To what floor do the instructions take Santa?\n",
    "```"
   ]
  },
  {
   "cell_type": "markdown",
   "metadata": {},
   "source": [
    "### Working it out\n",
    "\n",
    "- Start at 0,\n",
    "- ( means up 1\n",
    "- ) means down 1\n",
    "- Return the floor"
   ]
  },
  {
   "cell_type": "markdown",
   "metadata": {},
   "source": [
    "### Solution"
   ]
  },
  {
   "cell_type": "code",
   "execution_count": 7,
   "metadata": {},
   "outputs": [],
   "source": [
    "## Read input\n",
    "input = open(\"input.txt\", \"r\").read()"
   ]
  },
  {
   "cell_type": "code",
   "execution_count": 8,
   "metadata": {},
   "outputs": [
    {
     "data": {
      "text/plain": [
       "74"
      ]
     },
     "execution_count": 8,
     "metadata": {},
     "output_type": "execute_result"
    }
   ],
   "source": [
    "floor = 0\n",
    "\n",
    "for c in input:\n",
    "    if c == '(':\n",
    "        floor += 1\n",
    "    else:\n",
    "        floor -= 1\n",
    "\n",
    "floor"
   ]
  },
  {
   "cell_type": "markdown",
   "metadata": {},
   "source": [
    "## Part 2\n",
    "\n",
    "```\n",
    "--- Part Two ---\n",
    "Now, given the same instructions, find the position of the first character that causes him to enter the basement (floor -1). The first character in the instructions has position 1, the second character has position 2, and so on.\n",
    "\n",
    "For example:\n",
    "\n",
    ") causes him to enter the basement at character position 1.\n",
    "()()) causes him to enter the basement at character position 5.\n",
    "What is the position of the character that causes Santa to first enter the basement?\n",
    "```"
   ]
  },
  {
   "cell_type": "markdown",
   "metadata": {},
   "source": [
    "### Working it out\n",
    "\n",
    "- Start at 0,\n",
    "- ( means up 1\n",
    "- ) means down 1\n",
    "- Return the position of the first time the floor is -1"
   ]
  },
  {
   "cell_type": "markdown",
   "metadata": {},
   "source": [
    "### Solution"
   ]
  },
  {
   "cell_type": "code",
   "execution_count": 19,
   "metadata": {},
   "outputs": [
    {
     "name": "stdout",
     "output_type": "stream",
     "text": [
      "1795 -1\n",
      "1797 -1\n",
      "1799 -1\n",
      "1803 -1\n",
      "6595 -1\n"
     ]
    }
   ],
   "source": [
    "floor = 0\n",
    "for i in range(len(input)):\n",
    "    if input[i] == '(':\n",
    "        floor += 1\n",
    "    else:\n",
    "        floor -= 1\n",
    "    if floor == -1:\n",
    "        print(i + 1, floor)"
   ]
  }
 ],
 "metadata": {
  "kernelspec": {
   "display_name": "Python 3",
   "language": "python",
   "name": "python3"
  },
  "language_info": {
   "codemirror_mode": {
    "name": "ipython",
    "version": 3
   },
   "file_extension": ".py",
   "mimetype": "text/x-python",
   "name": "python",
   "nbconvert_exporter": "python",
   "pygments_lexer": "ipython3",
   "version": "3.11.5"
  }
 },
 "nbformat": 4,
 "nbformat_minor": 2
}
