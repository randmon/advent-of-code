{
 "cells": [
  {
   "cell_type": "markdown",
   "metadata": {},
   "source": [
    "# 3 December 2015\n",
    "\n",
    "## Part 1\n",
    "\n",
    "```\n",
    "--- Day 3: Perfectly Spherical Houses in a Vacuum ---\n",
    "Santa is delivering presents to an infinite two-dimensional grid of houses.\n",
    "\n",
    "He begins by delivering a present to the house at his starting location, and then an elf at the North Pole calls him via radio and tells him where to move next. Moves are always exactly one house to the north (^), south (v), east (>), or west (<). After each move, he delivers another present to the house at his new location.\n",
    "\n",
    "However, the elf back at the north pole has had a little too much eggnog, and so his directions are a little off, and Santa ends up visiting some houses more than once. How many houses receive at least one present?\n",
    "\n",
    "For example:\n",
    "\n",
    "  - > delivers presents to 2 houses: one at the starting location, and one to the east.\n",
    "  - ^>v< delivers presents to 4 houses in a square, including twice to the house at his starting/ending location.\n",
    "  - ^v^v^v^v^v delivers a bunch of presents to some very lucky children at only 2 houses.\n",
    "```"
   ]
  },
  {
   "cell_type": "markdown",
   "metadata": {},
   "source": [
    "### Working it out\n",
    "\n",
    "- set with houses\n",
    "- a house is a tuple of x and y coordinates, starting at 0,0\n",
    "- no need to count the presents, just need to know which houses he has been to (which means there is at least one present there)\n",
    "- count how many entries in the set at the end"
   ]
  },
  {
   "cell_type": "markdown",
   "metadata": {},
   "source": [
    "### Solution"
   ]
  },
  {
   "cell_type": "code",
   "execution_count": 10,
   "metadata": {},
   "outputs": [],
   "source": [
    "input = open('input.txt', 'r').read()"
   ]
  },
  {
   "cell_type": "code",
   "execution_count": 11,
   "metadata": {},
   "outputs": [
    {
     "data": {
      "text/plain": [
       "2592"
      ]
     },
     "execution_count": 11,
     "metadata": {},
     "output_type": "execute_result"
    }
   ],
   "source": [
    "houses = {(0,0)}\n",
    "current = (0,0)\n",
    "\n",
    "def move(position, direction):\n",
    "    if direction == '^':\n",
    "        return (position[0], position[1]+1)\n",
    "    elif direction == 'v':\n",
    "        return (position[0], position[1]-1)\n",
    "    elif direction == '>':\n",
    "        return (position[0]+1, position[1])\n",
    "    elif direction == '<':\n",
    "        return (position[0]-1, position[1])\n",
    "\n",
    "for direction in input:\n",
    "    current = move(current, direction)\n",
    "    houses.add(current)\n",
    "\n",
    "len(houses)"
   ]
  },
  {
   "cell_type": "markdown",
   "metadata": {},
   "source": [
    "## Part 2\n",
    "\n",
    "```\n",
    "--- Part Two ---\n",
    "The next year, to speed up the process, Santa creates a robot version of himself, Robo-Santa, to deliver presents with him.\n",
    "\n",
    "Santa and Robo-Santa start at the same location (delivering two presents to the same starting house), then take turns moving based on instructions from the elf, who is eggnoggedly reading from the same script as the previous year.\n",
    "\n",
    "This year, how many houses receive at least one present?\n",
    "\n",
    "For example:\n",
    "\n",
    "^v delivers presents to 3 houses, because Santa goes north, and then Robo-Santa goes south.\n",
    "^>v< now delivers presents to 3 houses, and Santa and Robo-Santa end up back where they started.\n",
    "^v^v^v^v^v now delivers presents to 11 houses, with Santa going one direction and Robo-Santa going the other.\n",
    "```"
   ]
  },
  {
   "cell_type": "markdown",
   "metadata": {},
   "source": [
    "### Working it out\n",
    "\n",
    "- Do the same as before, but with two current positions, and alternate between them"
   ]
  },
  {
   "cell_type": "code",
   "execution_count": 12,
   "metadata": {},
   "outputs": [
    {
     "data": {
      "text/plain": [
       "2360"
      ]
     },
     "execution_count": 12,
     "metadata": {},
     "output_type": "execute_result"
    }
   ],
   "source": [
    "houses = {(0,0)}\n",
    "current_santa = (0,0)\n",
    "current_robot = (0,0)\n",
    "\n",
    "\n",
    "for i, direction in enumerate(input):\n",
    "    if i % 2 == 0 :\n",
    "        current_santa = move(current_santa, direction)\n",
    "        houses.add(current_santa)\n",
    "    else:\n",
    "        current_robot = move(current_robot, direction)\n",
    "        houses.add(current_robot)\n",
    "\n",
    "len(houses)"
   ]
  }
 ],
 "metadata": {
  "kernelspec": {
   "display_name": "Python 3",
   "language": "python",
   "name": "python3"
  },
  "language_info": {
   "codemirror_mode": {
    "name": "ipython",
    "version": 3
   },
   "file_extension": ".py",
   "mimetype": "text/x-python",
   "name": "python",
   "nbconvert_exporter": "python",
   "pygments_lexer": "ipython3",
   "version": "3.11.5"
  }
 },
 "nbformat": 4,
 "nbformat_minor": 2
}
