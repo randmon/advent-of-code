{
 "cells": [
  {
   "cell_type": "markdown",
   "metadata": {},
   "source": [
    "# x December 20xx\n",
    "\n",
    "## Part 1\n",
    "\n",
    "Paste your text here\n",
    "\n",
    "```\n",
    "some\n",
    "example\n",
    "input\n",
    "```\n",
    "\n"
   ]
  },
  {
   "cell_type": "markdown",
   "metadata": {},
   "source": [
    "### Working it out\n",
    "\n",
    "- Steps to solve the problem"
   ]
  },
  {
   "cell_type": "markdown",
   "metadata": {},
   "source": [
    "### Solution"
   ]
  },
  {
   "cell_type": "code",
   "execution_count": null,
   "metadata": {},
   "outputs": [],
   "source": [
    "input = open(\"input.txt\", \"r\").read().strip() # For one line input\n",
    "# input = open(\"input.txt\", \"r\").read().strip().split(\"\\n\") # For multi line input\n",
    "# input = [int(i) for i in open(\"input.txt\", \"r\").read().strip().split(\"\\n\")] # For multi line input of integers\n",
    "# input = open(\"input.txt\", \"r\").read().strip().split(\"\\n\\n\").split(\"\\n\") # For multi line input of groups"
   ]
  },
  {
   "cell_type": "code",
   "execution_count": null,
   "metadata": {},
   "outputs": [],
   "source": [
    "# Write code here"
   ]
  },
  {
   "cell_type": "markdown",
   "metadata": {},
   "source": [
    "## Part 2\n",
    "\n",
    "Paste your text here\n",
    "\n",
    "\n",
    "```\n",
    "another\n",
    "example\n",
    "input\n",
    "```\n",
    "\n"
   ]
  },
  {
   "cell_type": "markdown",
   "metadata": {},
   "source": [
    "### Working it out\n",
    "\n",
    "- Steps to solve the problem"
   ]
  },
  {
   "cell_type": "markdown",
   "metadata": {},
   "source": [
    "### Solution"
   ]
  },
  {
   "cell_type": "code",
   "execution_count": null,
   "metadata": {},
   "outputs": [],
   "source": [
    "# Write code here"
   ]
  }
 ],
 "metadata": {
  "kernelspec": {
   "display_name": "Python 3",
   "language": "python",
   "name": "python3"
  },
  "language_info": {
   "codemirror_mode": {
    "name": "ipython",
    "version": 3
   },
   "file_extension": ".py",
   "mimetype": "text/x-python",
   "name": "python",
   "nbconvert_exporter": "python",
   "pygments_lexer": "ipython3",
   "version": "3.11.5"
  }
 },
 "nbformat": 4,
 "nbformat_minor": 2
}
